{
 "cells": [
  {
   "cell_type": "code",
   "execution_count": 148,
   "metadata": {},
   "outputs": [],
   "source": [
    "import pandas as pd\n",
    "import numpy as np\n",
    "import matplotlib.pyplot as plt\n",
    "import seaborn as sns\n",
    "from sklearn.naive_bayes import MultinomialNB\n",
    "from sklearn.feature_extraction.text import CountVectorizer\n",
    "from sklearn.model_selection import train_test_split\n",
    "from sklearn.metrics import accuracy_score\n",
    "from sklearn.metrics import precision_score\n",
    "from sklearn.metrics import confusion_matrix\n",
    "from sklearn.metrics import f1_score\n",
    "from sklearn.metrics import recall_score\n",
    "import imblearn\n",
    "from sklearn.decomposition import PCA\n",
    "from imblearn.under_sampling import RandomUnderSampler\n",
    "from imblearn.over_sampling import RandomOverSampler\n",
    "\n",
    "df = pd.read_csv(\"policefinal.csv\")\n",
    "df = df[['Descript', 'CrimeClass']]\n",
    "X = df.Descript\n",
    "y = df.CrimeClass\n",
    "X_train, X_test, y_train, y_test = train_test_split(X, y, random_state=2)\n",
    "cv = CountVectorizer()\n",
    "X_train_cv = cv.fit_transform(X_train)\n",
    "X_test_cv = cv.transform(X_test)\n",
    "naive_bayes = MultinomialNB()"
   ]
  },
  {
   "cell_type": "code",
   "execution_count": 149,
   "metadata": {},
   "outputs": [
    {
     "name": "stdout",
     "output_type": "stream",
     "text": [
      "                               Descript    CrimeClass\n",
      "2180    ATTEMPTED SUICIDE BY LACERATION  LOSS OF LIFE\n",
      "4279     ATTEMPTED SUICIDE BY INGESTION  LOSS OF LIFE\n",
      "6310                 SUICIDE BY JUMPING  LOSS OF LIFE\n",
      "6848       ATTEMPTED SUICIDE BY JUMPING  LOSS OF LIFE\n",
      "8571       ATTEMPTED SUICIDE BY JUMPING  LOSS OF LIFE\n",
      "...                                 ...           ...\n",
      "120508                          SUICIDE  LOSS OF LIFE\n",
      "131626                ATTEMPTED SUICIDE  LOSS OF LIFE\n",
      "142882              SUICIDE BY FIREARMS  LOSS OF LIFE\n",
      "148966   ATTEMPTED SUICIDE BY INGESTION  LOSS OF LIFE\n",
      "150164                ATTEMPTED SUICIDE  LOSS OF LIFE\n",
      "\n",
      "[69 rows x 2 columns]\n"
     ]
    }
   ],
   "source": [
    "print(df[df.CrimeClass == 'LOSS OF LIFE'])"
   ]
  },
  {
   "cell_type": "code",
   "execution_count": 150,
   "metadata": {},
   "outputs": [
    {
     "data": {
      "text/plain": [
       "THEFT                42429\n",
       "OTHER CRIMES         28149\n",
       "PUBLIC MISCONDUCT    16112\n",
       "ASSAULT              11457\n",
       "PROPERTY DAMAGE       7287\n",
       "MISSING PERSON        3523\n",
       "CORRUPTION            2671\n",
       "SEX OFFENSES          1191\n",
       "LOSS OF LIFE            56\n",
       "Name: CrimeClass, dtype: int64"
      ]
     },
     "execution_count": 150,
     "metadata": {},
     "output_type": "execute_result"
    }
   ],
   "source": [
    "pd.DataFrame(y_train).CrimeClass.value_counts()"
   ]
  },
  {
   "cell_type": "code",
   "execution_count": 151,
   "metadata": {},
   "outputs": [],
   "source": [
    "rus = RandomUnderSampler(return_indices=False, ratio={'THEFT': 30000, 'OTHER CRIMES': 20000, 'PUBLIC MISCONDUCT': 15000, 'ASSAULT': 10000, 'PROPERTY DAMAGE': 7287, 'MISSING PERSON': 3523, 'CORRUPTION': 2671, 'SEX OFFENSES': 1191, 'LOSS OF LIFE':56})\n",
    "X_rus, y_rus = rus.fit_sample(X_train_cv, y_train)\n",
    "# print('Removed indexes:', id_rus)"
   ]
  },
  {
   "cell_type": "code",
   "execution_count": 152,
   "metadata": {},
   "outputs": [
    {
     "data": {
      "text/plain": [
       "THEFT                30000\n",
       "OTHER CRIMES         20000\n",
       "PUBLIC MISCONDUCT    15000\n",
       "ASSAULT              10000\n",
       "PROPERTY DAMAGE       7287\n",
       "MISSING PERSON        3523\n",
       "CORRUPTION            2671\n",
       "SEX OFFENSES          1191\n",
       "LOSS OF LIFE            56\n",
       "Name: 0, dtype: int64"
      ]
     },
     "execution_count": 152,
     "metadata": {},
     "output_type": "execute_result"
    }
   ],
   "source": [
    "pd.DataFrame(y_rus)[0].value_counts()"
   ]
  },
  {
   "cell_type": "code",
   "execution_count": 153,
   "metadata": {},
   "outputs": [],
   "source": [
    "ros = RandomOverSampler(return_indices=False, ratio={'THEFT': 30000, 'OTHER CRIMES': 20000, 'PUBLIC MISCONDUCT': 15000, 'ASSAULT': 10000, 'PROPERTY DAMAGE': 10000, 'MISSING PERSON': 5000, 'CORRUPTION': 5000, 'SEX OFFENSES': 5000, 'LOSS OF LIFE':5000})\n",
    "X_ros, y_ros = ros.fit_sample(X_rus, y_rus)\n",
    "# print('Removed indexes:', id_rus)"
   ]
  },
  {
   "cell_type": "code",
   "execution_count": 154,
   "metadata": {},
   "outputs": [
    {
     "data": {
      "text/plain": [
       "THEFT                30000\n",
       "OTHER CRIMES         20000\n",
       "PUBLIC MISCONDUCT    15000\n",
       "ASSAULT              10000\n",
       "PROPERTY DAMAGE      10000\n",
       "LOSS OF LIFE          5000\n",
       "SEX OFFENSES          5000\n",
       "MISSING PERSON        5000\n",
       "CORRUPTION            5000\n",
       "Name: 0, dtype: int64"
      ]
     },
     "execution_count": 154,
     "metadata": {},
     "output_type": "execute_result"
    }
   ],
   "source": [
    "pd.DataFrame(y_ros)[0].value_counts()"
   ]
  },
  {
   "cell_type": "code",
   "execution_count": 155,
   "metadata": {},
   "outputs": [
    {
     "data": {
      "text/plain": [
       "THEFT                14236\n",
       "OTHER CRIMES          9320\n",
       "PUBLIC MISCONDUCT     5285\n",
       "ASSAULT               3778\n",
       "PROPERTY DAMAGE       2470\n",
       "MISSING PERSON        1212\n",
       "CORRUPTION             877\n",
       "SEX OFFENSES           434\n",
       "LOSS OF LIFE            13\n",
       "Name: CrimeClass, dtype: int64"
      ]
     },
     "execution_count": 155,
     "metadata": {},
     "output_type": "execute_result"
    }
   ],
   "source": [
    "pd.DataFrame(y_test).CrimeClass.value_counts()"
   ]
  },
  {
   "cell_type": "code",
   "execution_count": 156,
   "metadata": {},
   "outputs": [],
   "source": [
    "naive_bayes.fit(X_ros, y_ros)\n",
    "predictions = naive_bayes.predict(X_test_cv)"
   ]
  },
  {
   "cell_type": "code",
   "execution_count": 157,
   "metadata": {},
   "outputs": [
    {
     "name": "stdout",
     "output_type": "stream",
     "text": [
      "Accuracy score:  0.9935415282392026\n",
      "Precision score:  0.99365873044533\n",
      "Recall score:  0.9935415282392026\n",
      "F1 score:  0.9935734824694492\n"
     ]
    }
   ],
   "source": [
    "print('Accuracy score: ', accuracy_score(y_test, predictions))\n",
    "print('Precision score: ', precision_score(y_test, predictions, average='weighted'))\n",
    "print('Recall score: ', recall_score(y_test, predictions, average='weighted'))\n",
    "print('F1 score: ', f1_score(y_test, predictions, average='weighted'))"
   ]
  },
  {
   "cell_type": "code",
   "execution_count": 158,
   "metadata": {},
   "outputs": [
    {
     "data": {
      "text/plain": [
       "Text(69.0, 0.5, 'predicted label')"
      ]
     },
     "execution_count": 158,
     "metadata": {},
     "output_type": "execute_result"
    },
    {
     "data": {
      "image/png": "[encoded data removed]",
      "text/plain": [
       "<Figure size 720x720 with 2 Axes>"
      ]
     },
     "metadata": {
      "needs_background": "light"
     },
     "output_type": "display_data"
    }
   ],
   "source": [
    "classes = classes = sorted(df.CrimeClass.unique())\n",
    "cm = confusion_matrix(y_test, predictions)\n",
    "fig, ax = plt.subplots(figsize=(10,10))\n",
    "sns.heatmap(cm, square=True, annot=True, cmap='YlGnBu', cbar=True, xticklabels=classes, yticklabels=classes, ax=ax)\n",
    "plt.xlabel('true label')\n",
    "plt.ylabel('predicted label')"
   ]
  },
  {
   "cell_type": "code",
   "execution_count": 159,
   "metadata": {},
   "outputs": [
    {
     "name": "stdout",
     "output_type": "stream",
     "text": [
      "['LOSS OF LIFE']\n"
     ]
    }
   ],
   "source": [
    "predict = pd.DataFrame({'Descript': [\"ATTEMPTED SUICIDE BY FIREARM\"], \"CrimeClass\": ['Unknown']})\n",
    "predict_x = predict['Descript']\n",
    "predict_x_cv = cv.transform(predict_x)\n",
    "detected = naive_bayes.predict(predict_x_cv)\n",
    "print(detected)"
   ]
  }
 ],
 "metadata": {
  "kernelspec": {
   "display_name": "Python 3",
   "language": "python",
   "name": "python3"
  },
  "language_info": {
   "codemirror_mode": {
    "name": "ipython",
    "version": 3
   },
   "file_extension": ".py",
   "mimetype": "text/x-python",
   "name": "python",
   "nbconvert_exporter": "python",
   "pygments_lexer": "ipython3",
   "version": "3.7.4"
  }
 },
 "nbformat": 4,
 "nbformat_minor": 2
}
